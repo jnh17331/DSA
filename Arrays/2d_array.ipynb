{
 "cells": [
  {
   "cell_type": "code",
   "execution_count": 77,
   "metadata": {},
   "outputs": [],
   "source": [
    "import numpy as np"
   ]
  },
  {
   "cell_type": "code",
   "execution_count": 78,
   "metadata": {},
   "outputs": [
    {
     "name": "stdout",
     "output_type": "stream",
     "text": [
      "[[ 5  6  7  8]\n",
      " [15 16 17 18]\n",
      " [25 26 27 28]\n",
      " [35 36 37 38]]\n"
     ]
    }
   ],
   "source": [
    "## Create 2D array using [[]]\n",
    "twoDArray = np.array([[5, 6, 7, 8], [15, 16, 17, 18], [25, 26, 27, 28], [35, 36, 37, 38]])\n",
    "print(twoDArray)"
   ]
  },
  {
   "cell_type": "code",
   "execution_count": 79,
   "metadata": {},
   "outputs": [
    {
     "name": "stdout",
     "output_type": "stream",
     "text": [
      "[[ 1  2  3  4]\n",
      " [ 5  6  7  8]\n",
      " [15 16 17 18]\n",
      " [25 26 27 28]\n",
      " [35 36 37 38]]\n"
     ]
    }
   ],
   "source": [
    "## Adds data as row\n",
    "new_r_twoDArray = np.insert(twoDArray, 0, [[1, 2, 3, 4]], axis=0)\n",
    "print(new_r_twoDArray)"
   ]
  },
  {
   "cell_type": "code",
   "execution_count": 80,
   "metadata": {},
   "outputs": [
    {
     "name": "stdout",
     "output_type": "stream",
     "text": [
      "[[ 5  6  7  8 91]\n",
      " [15 16 17 18 92]\n",
      " [25 26 27 28 93]\n",
      " [35 36 37 38 94]]\n"
     ]
    }
   ],
   "source": [
    "## Adds data as column\n",
    "new_c_twoDArray = np.insert(twoDArray, 4, [[91, 92, 93, 94]], axis=1)\n",
    "print(new_c_twoDArray)"
   ]
  },
  {
   "cell_type": "code",
   "execution_count": 81,
   "metadata": {},
   "outputs": [
    {
     "name": "stdout",
     "output_type": "stream",
     "text": [
      "[[  5   6   7   8]\n",
      " [ 15  16  17  18]\n",
      " [ 25  26  27  28]\n",
      " [ 35  36  37  38]\n",
      " [100 101 102 103]]\n"
     ]
    }
   ],
   "source": [
    "appended_2D = np.append(twoDArray, [[100, 101, 102, 103]], axis=0)\n",
    "print(appended_2D)"
   ]
  },
  {
   "cell_type": "code",
   "execution_count": 82,
   "metadata": {},
   "outputs": [
    {
     "data": {
      "text/plain": [
       "37"
      ]
     },
     "execution_count": 82,
     "metadata": {},
     "output_type": "execute_result"
    }
   ],
   "source": [
    "## Function that access the index of a 2D array\n",
    "def access2DElement(array, rowIndex, columnIndex):\n",
    "    if rowIndex >= len(array) or columnIndex >= len(array[0]):\n",
    "        return('Index or column not found!')\n",
    "    else:\n",
    "        return(array[columnIndex][rowIndex])\n",
    "\n",
    "access2DElement(appended_2D, 2, 3)"
   ]
  },
  {
   "cell_type": "code",
   "execution_count": 83,
   "metadata": {},
   "outputs": [
    {
     "name": "stdout",
     "output_type": "stream",
     "text": [
      "5\n",
      "6\n",
      "7\n",
      "8\n",
      "15\n",
      "16\n",
      "17\n",
      "18\n",
      "25\n",
      "26\n",
      "27\n",
      "28\n",
      "35\n",
      "36\n",
      "37\n",
      "38\n",
      "100\n",
      "101\n",
      "102\n",
      "103\n"
     ]
    }
   ],
   "source": [
    "## Travesing 2D Array\n",
    "def traverse2DArray(array):\n",
    "    for i in range(len(array)):\n",
    "        for j in range(len(array[0])):\n",
    "            print(array[i][j])\n",
    "\n",
    "traverse2DArray(appended_2D)"
   ]
  },
  {
   "cell_type": "code",
   "execution_count": 84,
   "metadata": {},
   "outputs": [
    {
     "data": {
      "text/plain": [
       "'The value is located at Column: 4, Row: 1'"
      ]
     },
     "execution_count": 84,
     "metadata": {},
     "output_type": "execute_result"
    }
   ],
   "source": [
    "## Element Search in 2D Array\n",
    "\n",
    "def search2DArray(array, target):\n",
    "    for i in range(len(array)):\n",
    "        for j in range(len(array[0])):\n",
    "            if array[i][j] == target:\n",
    "                return(f'The value is located at Column: {i}, Row: {j}')\n",
    "    return('Value not found!')\n",
    "            \n",
    "search2DArray(appended_2D, 101)"
   ]
  },
  {
   "cell_type": "code",
   "execution_count": 86,
   "metadata": {},
   "outputs": [
    {
     "name": "stdout",
     "output_type": "stream",
     "text": [
      "[[ 5  6  7  8 91]\n",
      " [15 16 17 18 92]\n",
      " [25 26 27 28 93]\n",
      " [35 36 37 38 94]]\n",
      "[[ 5  6  7  8]\n",
      " [15 16 17 18]\n",
      " [25 26 27 28]\n",
      " [35 36 37 38]]\n"
     ]
    }
   ],
   "source": [
    "print(new_c_twoDArray)\n",
    "deleting2DArray = np.delete(new_c_twoDArray, 4, axis=1)\n",
    "print(deleting2DArray)"
   ]
  }
 ],
 "metadata": {
  "kernelspec": {
   "display_name": "base",
   "language": "python",
   "name": "python3"
  },
  "language_info": {
   "codemirror_mode": {
    "name": "ipython",
    "version": 3
   },
   "file_extension": ".py",
   "mimetype": "text/x-python",
   "name": "python",
   "nbconvert_exporter": "python",
   "pygments_lexer": "ipython3",
   "version": "3.10.13"
  }
 },
 "nbformat": 4,
 "nbformat_minor": 2
}
