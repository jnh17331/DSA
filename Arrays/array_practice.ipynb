{
 "cells": [
  {
   "cell_type": "code",
   "execution_count": 148,
   "metadata": {},
   "outputs": [],
   "source": [
    "import array\n",
    "import numpy as np"
   ]
  },
  {
   "cell_type": "code",
   "execution_count": 149,
   "metadata": {},
   "outputs": [
    {
     "name": "stdout",
     "output_type": "stream",
     "text": [
      "array('i', [1, 2, 3, 4, 5])\n"
     ]
    }
   ],
   "source": [
    "my_array = array.array('i', [1, 2, 3, 4, 5])\n",
    "\n",
    "print(my_array)"
   ]
  },
  {
   "cell_type": "code",
   "execution_count": 150,
   "metadata": {},
   "outputs": [
    {
     "name": "stdout",
     "output_type": "stream",
     "text": [
      "1\n",
      "2\n",
      "3\n",
      "4\n",
      "5\n"
     ]
    }
   ],
   "source": [
    "def traverse_array(array):\n",
    "    for i in array:\n",
    "        print(i)\n",
    "\n",
    "traverse_array(my_array)"
   ]
  },
  {
   "cell_type": "code",
   "execution_count": 151,
   "metadata": {},
   "outputs": [
    {
     "name": "stdout",
     "output_type": "stream",
     "text": [
      "1\n",
      "3\n"
     ]
    }
   ],
   "source": [
    "print(my_array[0])\n",
    "print(my_array[2])"
   ]
  },
  {
   "cell_type": "code",
   "execution_count": 152,
   "metadata": {},
   "outputs": [
    {
     "data": {
      "text/plain": [
       "3"
      ]
     },
     "execution_count": 152,
     "metadata": {},
     "output_type": "execute_result"
    }
   ],
   "source": [
    "def access_elements(my_array, target):\n",
    "    for i in range(len(my_array)):\n",
    "        if my_array[i] == target:\n",
    "            return i\n",
    "    return -1\n",
    "\n",
    "\n",
    "access_elements(my_array, 4)"
   ]
  },
  {
   "cell_type": "code",
   "execution_count": 153,
   "metadata": {},
   "outputs": [
    {
     "name": "stdout",
     "output_type": "stream",
     "text": [
      "array('i', [1, 2, 3, 4, 5, 6])\n"
     ]
    }
   ],
   "source": [
    "my_array.append(6)\n",
    "print(my_array)"
   ]
  },
  {
   "cell_type": "code",
   "execution_count": 154,
   "metadata": {},
   "outputs": [
    {
     "name": "stdout",
     "output_type": "stream",
     "text": [
      "array('i', [7, 1, 2, 3, 4, 5, 6])\n"
     ]
    }
   ],
   "source": [
    "my_array.insert(0, 7)\n",
    "print(my_array)"
   ]
  },
  {
   "cell_type": "code",
   "execution_count": 155,
   "metadata": {},
   "outputs": [
    {
     "name": "stdout",
     "output_type": "stream",
     "text": [
      "array('i', [7, 1, 2, 3, 4, 5, 6, 10, 11, 12])\n"
     ]
    }
   ],
   "source": [
    "my_array1 = array.array('i', [10, 11, 12])\n",
    "my_array.extend(my_array1)\n",
    "\n",
    "print(my_array)"
   ]
  },
  {
   "cell_type": "code",
   "execution_count": 156,
   "metadata": {},
   "outputs": [
    {
     "name": "stdout",
     "output_type": "stream",
     "text": [
      "array('i', [7, 1, 2, 3, 4, 5, 6, 10, 11, 12])\n",
      "array('i', [7, 1, 2, 3, 4, 5, 6, 10, 11, 12, 100, 101, 102, 103, 104, 105])\n"
     ]
    }
   ],
   "source": [
    "print(my_array)\n",
    "\n",
    "my_list = [100, 101, 102, 103, 104, 105]\n",
    "\n",
    "my_array.fromlist(my_list)\n",
    "\n",
    "print(my_array)"
   ]
  },
  {
   "cell_type": "code",
   "execution_count": 157,
   "metadata": {},
   "outputs": [
    {
     "name": "stdout",
     "output_type": "stream",
     "text": [
      "array('i', [7, 1, 2, 3, 4, 5, 6, 10, 11, 12, 100, 101, 102, 103, 104, 105])\n",
      "array('i', [1, 2, 3, 4, 5, 6, 10, 11, 12, 100, 101, 102, 103, 104, 105])\n"
     ]
    }
   ],
   "source": [
    "print(my_array)\n",
    "my_array.remove(7)\n",
    "print(my_array)"
   ]
  },
  {
   "cell_type": "code",
   "execution_count": 158,
   "metadata": {},
   "outputs": [
    {
     "name": "stdout",
     "output_type": "stream",
     "text": [
      "array('i', [1, 2, 3, 4, 5, 6, 10, 11, 12, 100, 101, 102, 103, 104, 105, 106])\n",
      "array('i', [1, 2, 3, 4, 5, 6, 10, 11, 12, 100, 101, 102, 103, 104, 105])\n"
     ]
    }
   ],
   "source": [
    "my_array.append(106)\n",
    "print(my_array)\n",
    "my_array.pop()\n",
    "print(my_array)"
   ]
  },
  {
   "cell_type": "code",
   "execution_count": 159,
   "metadata": {},
   "outputs": [
    {
     "name": "stdout",
     "output_type": "stream",
     "text": [
      "array('i', [1, 2, 3, 4, 5, 6, 10, 11, 12, 100, 101, 102, 103, 104, 105])\n",
      "11\n"
     ]
    }
   ],
   "source": [
    "print(my_array)\n",
    "print(my_array.index(102))"
   ]
  },
  {
   "cell_type": "code",
   "execution_count": 160,
   "metadata": {},
   "outputs": [
    {
     "name": "stdout",
     "output_type": "stream",
     "text": [
      "array('i', [1, 2, 3, 4, 5, 6, 10, 11, 12, 100, 101, 102, 103, 104, 105])\n",
      "array('i', [105, 104, 103, 102, 101, 100, 12, 11, 10, 6, 5, 4, 3, 2, 1])\n"
     ]
    }
   ],
   "source": [
    "print(my_array)\n",
    "my_array.reverse()\n",
    "print(my_array)"
   ]
  },
  {
   "cell_type": "code",
   "execution_count": 161,
   "metadata": {},
   "outputs": [
    {
     "name": "stdout",
     "output_type": "stream",
     "text": [
      "(2478014281456, 15)\n"
     ]
    }
   ],
   "source": [
    "## Gets space info\n",
    "print(my_array.buffer_info())"
   ]
  },
  {
   "cell_type": "code",
   "execution_count": 162,
   "metadata": {},
   "outputs": [
    {
     "name": "stdout",
     "output_type": "stream",
     "text": [
      "array('i', [105, 104, 103, 102, 101, 100, 12, 11, 10, 6, 5, 4, 3, 2, 1])\n",
      "array('i', [105, 104, 103, 102, 101, 100, 12, 11, 10, 6, 5, 4, 3, 2, 1, 105])\n",
      "2\n"
     ]
    }
   ],
   "source": [
    "print(my_array)\n",
    "my_array.append(105)\n",
    "print(my_array)\n",
    "print(my_array.count(105))"
   ]
  },
  {
   "cell_type": "code",
   "execution_count": 163,
   "metadata": {},
   "outputs": [
    {
     "name": "stdout",
     "output_type": "stream",
     "text": [
      "105\n",
      "b'i\\x00\\x00\\x00h\\x00\\x00\\x00g\\x00\\x00\\x00f\\x00\\x00\\x00e\\x00\\x00\\x00d\\x00\\x00\\x00\\x0c\\x00\\x00\\x00\\x0b\\x00\\x00\\x00\\n\\x00\\x00\\x00\\x06\\x00\\x00\\x00\\x05\\x00\\x00\\x00\\x04\\x00\\x00\\x00\\x03\\x00\\x00\\x00\\x02\\x00\\x00\\x00\\x01\\x00\\x00\\x00i\\x00\\x00\\x00'\n",
      "array('i', [105, 104, 103, 102, 101, 100, 12, 11, 10, 6, 5, 4, 3, 2, 1, 105])\n"
     ]
    }
   ],
   "source": [
    "my_string = my_array.tobytes()\n",
    "print(my_string[0])\n",
    "print(my_string)\n",
    "ints = array.array('i')\n",
    "ints.frombytes(my_string)\n",
    "print(ints)"
   ]
  },
  {
   "cell_type": "code",
   "execution_count": 164,
   "metadata": {},
   "outputs": [
    {
     "name": "stdout",
     "output_type": "stream",
     "text": [
      "array('i', [105, 104, 103, 102, 101, 100, 12, 11, 10, 6, 5, 4, 3, 2, 1])\n"
     ]
    }
   ],
   "source": [
    "my_array.pop()\n",
    "print(my_array)"
   ]
  },
  {
   "cell_type": "code",
   "execution_count": 165,
   "metadata": {},
   "outputs": [
    {
     "name": "stdout",
     "output_type": "stream",
     "text": [
      "[105, 104, 103, 102, 101, 100, 12, 11, 10, 6, 5, 4, 3, 2, 1]\n"
     ]
    }
   ],
   "source": [
    "print(my_array.tolist())"
   ]
  },
  {
   "cell_type": "code",
   "execution_count": 171,
   "metadata": {},
   "outputs": [
    {
     "name": "stdout",
     "output_type": "stream",
     "text": [
      "array('i', [105, 104, 103, 102, 101, 100])\n",
      "array('i', [12, 11, 10, 6, 5, 4, 3, 2, 1])\n"
     ]
    }
   ],
   "source": [
    "print(my_array[0:6])\n",
    "print(my_array[6:])"
   ]
  }
 ],
 "metadata": {
  "kernelspec": {
   "display_name": "base",
   "language": "python",
   "name": "python3"
  },
  "language_info": {
   "codemirror_mode": {
    "name": "ipython",
    "version": 3
   },
   "file_extension": ".py",
   "mimetype": "text/x-python",
   "name": "python",
   "nbconvert_exporter": "python",
   "pygments_lexer": "ipython3",
   "version": "3.10.13"
  }
 },
 "nbformat": 4,
 "nbformat_minor": 2
}
