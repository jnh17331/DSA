{
 "cells": [
  {
   "cell_type": "code",
   "execution_count": 56,
   "metadata": {},
   "outputs": [],
   "source": [
    "import array\n",
    "import numpy as np"
   ]
  },
  {
   "cell_type": "code",
   "execution_count": 57,
   "metadata": {},
   "outputs": [
    {
     "name": "stdout",
     "output_type": "stream",
     "text": [
      "6\n",
      "101\n",
      "5\n"
     ]
    }
   ],
   "source": [
    "## Creating and testing array with array library\n",
    "my_array = array.array('i', [100, 101, 102, 103, 104])\n",
    "\n",
    "my_array.append(12)\n",
    "\n",
    "print(len(my_array))\n",
    "\n",
    "print(my_array[1])\n",
    "\n",
    "my_array.pop()\n",
    "\n",
    "print(len(my_array))"
   ]
  },
  {
   "cell_type": "code",
   "execution_count": 58,
   "metadata": {},
   "outputs": [
    {
     "name": "stdout",
     "output_type": "stream",
     "text": [
      "[]\n",
      "[ 12 125 124]\n"
     ]
    }
   ],
   "source": [
    "## Creating and testing array with numpy\n",
    "np_array = np.array([], dtype=int)\n",
    "print(np_array)\n",
    "\n",
    "np_array1 = np.array([12, 125, 124], dtype=int)\n",
    "print(np_array1)"
   ]
  },
  {
   "cell_type": "code",
   "execution_count": 59,
   "metadata": {},
   "outputs": [
    {
     "name": "stdout",
     "output_type": "stream",
     "text": [
      "array('i', [100, 101, 102, 103, 104])\n",
      "array('i', [99, 100, 101, 102, 103, 104])\n"
     ]
    }
   ],
   "source": [
    "## Array inserting\n",
    "my_array\n",
    "print(my_array)\n",
    "\n",
    "# index placement, value(s)\n",
    "my_array.insert(0, 99)\n",
    "print(my_array)"
   ]
  },
  {
   "cell_type": "code",
   "execution_count": 60,
   "metadata": {},
   "outputs": [
    {
     "name": "stdout",
     "output_type": "stream",
     "text": [
      "99\n",
      "100\n",
      "101\n",
      "102\n",
      "103\n",
      "104\n"
     ]
    }
   ],
   "source": [
    "## Traversing an array\n",
    "def traverse_array(array):\n",
    "    for i in array:\n",
    "        print(i)\n",
    "\n",
    "traverse_array(my_array)"
   ]
  },
  {
   "cell_type": "code",
   "execution_count": 61,
   "metadata": {},
   "outputs": [
    {
     "name": "stdout",
     "output_type": "stream",
     "text": [
      "104\n"
     ]
    }
   ],
   "source": [
    "## Accesing Components of an Array\n",
    "def access_array(array, index):\n",
    "    if index >= len(array):\n",
    "        print('There is no index with that value')\n",
    "    else:\n",
    "        print(array[index])\n",
    "\n",
    "access_array(my_array, -1)"
   ]
  },
  {
   "cell_type": "code",
   "execution_count": 62,
   "metadata": {},
   "outputs": [
    {
     "name": "stdout",
     "output_type": "stream",
     "text": [
      "array('i', [99, 100, 101, 102, 103, 104])\n"
     ]
    },
    {
     "data": {
      "text/plain": [
       "2"
      ]
     },
     "execution_count": 62,
     "metadata": {},
     "output_type": "execute_result"
    }
   ],
   "source": [
    "## Linear Search\n",
    "def linear_search(array, target):\n",
    "    for i in range(len(array)):\n",
    "        if array[i] == target:\n",
    "            return i\n",
    "    return -1\n",
    "    \n",
    "print(my_array)\n",
    "linear_search(my_array, 101)"
   ]
  },
  {
   "cell_type": "code",
   "execution_count": 63,
   "metadata": {},
   "outputs": [
    {
     "name": "stdout",
     "output_type": "stream",
     "text": [
      "array('i', [99, 101, 102, 103, 104])\n"
     ]
    }
   ],
   "source": [
    "## Deleting from Array\n",
    "\n",
    "my_array.remove(100)\n",
    "\n",
    "print(my_array)"
   ]
  },
  {
   "cell_type": "code",
   "execution_count": null,
   "metadata": {},
   "outputs": [],
   "source": []
  }
 ],
 "metadata": {
  "kernelspec": {
   "display_name": "base",
   "language": "python",
   "name": "python3"
  },
  "language_info": {
   "codemirror_mode": {
    "name": "ipython",
    "version": 3
   },
   "file_extension": ".py",
   "mimetype": "text/x-python",
   "name": "python",
   "nbconvert_exporter": "python",
   "pygments_lexer": "ipython3",
   "version": "3.10.13"
  }
 },
 "nbformat": 4,
 "nbformat_minor": 2
}
