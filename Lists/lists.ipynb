{
 "cells": [
  {
   "cell_type": "code",
   "execution_count": 258,
   "metadata": {},
   "outputs": [
    {
     "name": "stdout",
     "output_type": "stream",
     "text": [
      "[1, 2, 3, 4]\n"
     ]
    }
   ],
   "source": [
    "integers = [1, 2, 3, 4]\n",
    "print(integers)"
   ]
  },
  {
   "cell_type": "code",
   "execution_count": 259,
   "metadata": {},
   "outputs": [
    {
     "name": "stdout",
     "output_type": "stream",
     "text": [
      "['coffee', 'water', 'chicken']\n"
     ]
    }
   ],
   "source": [
    "stringList = ['coffee', 'water', 'chicken']\n",
    "print(stringList)"
   ]
  },
  {
   "cell_type": "code",
   "execution_count": 260,
   "metadata": {},
   "outputs": [
    {
     "name": "stdout",
     "output_type": "stream",
     "text": [
      "[['nested', 'list'], 1, 2, 3]\n"
     ]
    }
   ],
   "source": [
    "nestedList = [['nested', 'list'], 1, 2, 3]\n",
    "print(nestedList)"
   ]
  },
  {
   "cell_type": "code",
   "execution_count": 261,
   "metadata": {},
   "outputs": [
    {
     "name": "stdout",
     "output_type": "stream",
     "text": [
      "coffee\n",
      "True\n",
      "False\n",
      "chicken\n"
     ]
    }
   ],
   "source": [
    "print(stringList[0])\n",
    "print('water' in stringList)\n",
    "print('bread' in stringList)\n",
    "print(stringList[-1])"
   ]
  },
  {
   "cell_type": "code",
   "execution_count": 262,
   "metadata": {},
   "outputs": [
    {
     "name": "stdout",
     "output_type": "stream",
     "text": [
      "coffee+\n",
      "water+\n",
      "chicken+\n"
     ]
    }
   ],
   "source": [
    "for i in range(len(stringList)):\n",
    "    stringList[i] = stringList[i] + '+'\n",
    "    print(stringList[i])"
   ]
  },
  {
   "cell_type": "code",
   "execution_count": 263,
   "metadata": {},
   "outputs": [
    {
     "name": "stdout",
     "output_type": "stream",
     "text": [
      "['coffee+', 'water+', 'chicken+']\n",
      "['coffee+', 'pasta', 'chicken+']\n"
     ]
    }
   ],
   "source": [
    "print(stringList)\n",
    "stringList[1] = 'pasta'\n",
    "print(stringList)"
   ]
  },
  {
   "cell_type": "code",
   "execution_count": 264,
   "metadata": {},
   "outputs": [
    {
     "name": "stdout",
     "output_type": "stream",
     "text": [
      "['water', 'coffee+', 'pasta', 'chicken+']\n",
      "['water', 'coffee+', 'pasta', 'chicken+', 'beef']\n",
      "['water', 'coffee+', 'pasta', 'chicken+', 'beef', 'milk', 'creamer', 'cheese']\n"
     ]
    }
   ],
   "source": [
    "stringList.insert(0, 'water')\n",
    "print(stringList)\n",
    "stringList.append('beef')\n",
    "print(stringList)\n",
    "new_list = ['milk', 'creamer', 'cheese']\n",
    "stringList.extend(new_list)\n",
    "print(stringList)\n"
   ]
  },
  {
   "cell_type": "code",
   "execution_count": 265,
   "metadata": {},
   "outputs": [
    {
     "name": "stdout",
     "output_type": "stream",
     "text": [
      "['water', 'coffee+']\n",
      "['pasta']\n"
     ]
    }
   ],
   "source": [
    "print(stringList[:2])\n",
    "print(stringList[2:3])"
   ]
  },
  {
   "cell_type": "code",
   "execution_count": 266,
   "metadata": {},
   "outputs": [
    {
     "name": "stdout",
     "output_type": "stream",
     "text": [
      "['water', 'coffee+', 'pasta', 'chicken+', 'beef', 'milk', 'creamer', 'cheese']\n",
      "['water', 'coffee+', 'pasta', 'chicken+', 'beef', 'milk', 'creamer']\n",
      "['coffee+', 'pasta', 'chicken+', 'beef', 'milk', 'creamer']\n",
      "['coffee+', 'chicken+', 'beef', 'milk', 'creamer']\n"
     ]
    }
   ],
   "source": [
    "print(stringList)\n",
    "stringList.pop()\n",
    "print(stringList)\n",
    "stringList.remove('water')\n",
    "print(stringList)\n",
    "del stringList[1]\n",
    "print(stringList)"
   ]
  },
  {
   "cell_type": "code",
   "execution_count": 267,
   "metadata": {},
   "outputs": [
    {
     "name": "stdout",
     "output_type": "stream",
     "text": [
      "creamer is in the list!\n"
     ]
    }
   ],
   "source": [
    "target = 'creamer'\n",
    "if target in stringList:\n",
    "    print(f'{target} is in the list!')\n",
    "else:\n",
    "    print(f'{target} was not found!')"
   ]
  },
  {
   "cell_type": "code",
   "execution_count": 268,
   "metadata": {},
   "outputs": [
    {
     "data": {
      "text/plain": [
       "3"
      ]
     },
     "execution_count": 268,
     "metadata": {},
     "output_type": "execute_result"
    }
   ],
   "source": [
    "def linear_search(t_list, t_target):\n",
    "    for i, value in enumerate(t_list):\n",
    "        if value == t_target:\n",
    "            return i\n",
    "    return -1\n",
    "\n",
    "linear_search(stringList, 'milk')"
   ]
  },
  {
   "cell_type": "code",
   "execution_count": 269,
   "metadata": {},
   "outputs": [
    {
     "name": "stdout",
     "output_type": "stream",
     "text": [
      "[1, 2, 3, 4, 5, 10, 20, 30, 40, 50]\n",
      "[1, 2, 3, 4, 5, 10, 1, 2, 3, 4, 5, 10, 1, 2, 3, 4, 5, 10, 1, 2, 3, 4, 5, 10]\n",
      "10\n",
      "1\n",
      "100\n",
      "4.166666666666667\n"
     ]
    }
   ],
   "source": [
    "num_string = [1, 2, 3, 4, 5, 10]\n",
    "new_nums = [20, 30, 40, 50]\n",
    "add_opp = num_string + new_nums\n",
    "print(add_opp)\n",
    "mul_opp = num_string * 4\n",
    "print(mul_opp)\n",
    "print(max(mul_opp))\n",
    "print(min(mul_opp))\n",
    "print(sum(mul_opp))\n",
    "print(sum(mul_opp)/len(mul_opp))"
   ]
  },
  {
   "cell_type": "code",
   "execution_count": 270,
   "metadata": {},
   "outputs": [],
   "source": [
    "## Average Calculator\n",
    "# avg_list = []\n",
    "    \n",
    "# print('Welcome! Enter a number when prompted. When you are done adding numbers, type \"done\"')\n",
    "# while (True):\n",
    "#     inp = input('Enter a Number')\n",
    "#     if inp == 'done': break\n",
    "#     value = float(inp)\n",
    "#     avg_list.append(value)\n",
    "\n",
    "# print(f'Average: {sum(avg_list)/len(avg_list)}')"
   ]
  },
  {
   "cell_type": "code",
   "execution_count": 271,
   "metadata": {},
   "outputs": [
    {
     "name": "stdout",
     "output_type": "stream",
     "text": [
      "['s', 'p', 'a', 'm', ' ', 's', 'p', 'a', 'm', ' ', 's', 'p', 'a', 'm']\n",
      "['spam', 'spam', 'spam']\n"
     ]
    }
   ],
   "source": [
    "spam_var = 'spam spam spam'\n",
    "spam_list = list(spam_var)\n",
    "print(spam_list)\n",
    "spam_split = spam_var.split()\n",
    "print(spam_split)\n"
   ]
  },
  {
   "cell_type": "code",
   "execution_count": 272,
   "metadata": {},
   "outputs": [
    {
     "name": "stdout",
     "output_type": "stream",
     "text": [
      "['spam', 'spam', 'spam']\n"
     ]
    }
   ],
   "source": [
    "delim_spam = 'spam-spam-spam'\n",
    "delimiter = '-'\n",
    "spam_delim_split = delim_spam.split(delimiter)\n",
    "print(spam_delim_split)"
   ]
  },
  {
   "cell_type": "code",
   "execution_count": 273,
   "metadata": {},
   "outputs": [
    {
     "name": "stdout",
     "output_type": "stream",
     "text": [
      "[200, 400, 600, 1000, -2000, -1800, -1760]\n"
     ]
    }
   ],
   "source": [
    "## List Comprehension\n",
    "prev_list = [100, 200, 300, 500, -1000, -900, -880]\n",
    "new_list = [i*2 for i in prev_list]\n",
    "print(new_list)"
   ]
  },
  {
   "cell_type": "code",
   "execution_count": 274,
   "metadata": {},
   "outputs": [
    {
     "name": "stdout",
     "output_type": "stream",
     "text": [
      "['P', 'y', 't', 'h', 'o', 'n']\n"
     ]
    }
   ],
   "source": [
    "language = 'Python'\n",
    "comp_list = [letter for letter in language]\n",
    "print(comp_list)"
   ]
  },
  {
   "cell_type": "code",
   "execution_count": 278,
   "metadata": {},
   "outputs": [
    {
     "data": {
      "text/plain": [
       "[100, 200, 300, 500]"
      ]
     },
     "execution_count": 278,
     "metadata": {},
     "output_type": "execute_result"
    }
   ],
   "source": [
    "cond_list = [num for num in prev_list if num > 0]\n",
    "cond_list"
   ]
  },
  {
   "cell_type": "code",
   "execution_count": 279,
   "metadata": {},
   "outputs": [
    {
     "data": {
      "text/plain": [
       "[1000000, 810000, 774400]"
      ]
     },
     "execution_count": 279,
     "metadata": {},
     "output_type": "execute_result"
    }
   ],
   "source": [
    "cond_list = [num * num for num in prev_list if num < 0]\n",
    "cond_list"
   ]
  },
  {
   "cell_type": "code",
   "execution_count": 284,
   "metadata": {},
   "outputs": [
    {
     "name": "stdout",
     "output_type": "stream",
     "text": [
      "True\n"
     ]
    },
    {
     "data": {
      "text/plain": [
       "['P', 'y', 't', 'h', 'n']"
      ]
     },
     "execution_count": 284,
     "metadata": {},
     "output_type": "execute_result"
    }
   ],
   "source": [
    "def is_consonant(letter):\n",
    "    vowels = 'aeiou'\n",
    "    return letter.isalpha() and letter.lower() not in vowels\n",
    "\n",
    "print(is_consonant(\"t\"))\n",
    "\n",
    "const_list = [let for let in language if is_consonant(let)]\n",
    "const_list"
   ]
  },
  {
   "cell_type": "code",
   "execution_count": 285,
   "metadata": {},
   "outputs": [
    {
     "data": {
      "text/plain": [
       "[100, 200, 300, 500, 0, 0, 0]"
      ]
     },
     "execution_count": 285,
     "metadata": {},
     "output_type": "execute_result"
    }
   ],
   "source": [
    "new_list = [num if num > 0 else 0 for num in prev_list]\n",
    "new_list"
   ]
  },
  {
   "cell_type": "code",
   "execution_count": 287,
   "metadata": {},
   "outputs": [
    {
     "data": {
      "text/plain": [
       "range(1, 6)"
      ]
     },
     "execution_count": 287,
     "metadata": {},
     "output_type": "execute_result"
    }
   ],
   "source": [
    "range(1, 6)"
   ]
  },
  {
   "cell_type": "code",
   "execution_count": 291,
   "metadata": {},
   "outputs": [
    {
     "name": "stdout",
     "output_type": "stream",
     "text": [
      "[1, 3, 5, 7, 9]\n"
     ]
    }
   ],
   "source": [
    "a=[1,2,3,4,5,6,7,8,9]\n",
    "print(a[::2])"
   ]
  }
 ],
 "metadata": {
  "kernelspec": {
   "display_name": "base",
   "language": "python",
   "name": "python3"
  },
  "language_info": {
   "codemirror_mode": {
    "name": "ipython",
    "version": 3
   },
   "file_extension": ".py",
   "mimetype": "text/x-python",
   "name": "python",
   "nbconvert_exporter": "python",
   "pygments_lexer": "ipython3",
   "version": "3.10.13"
  }
 },
 "nbformat": 4,
 "nbformat_minor": 2
}
